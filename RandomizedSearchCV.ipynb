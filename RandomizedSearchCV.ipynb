{
  "nbformat": 4,
  "nbformat_minor": 0,
  "metadata": {
    "colab": {
      "provenance": [],
      "authorship_tag": "ABX9TyPlN50BGlTvZNxd4J0j83Ff",
      "include_colab_link": true
    },
    "kernelspec": {
      "name": "python3",
      "display_name": "Python 3"
    },
    "language_info": {
      "name": "python"
    }
  },
  "cells": [
    {
      "cell_type": "markdown",
      "metadata": {
        "id": "view-in-github",
        "colab_type": "text"
      },
      "source": [
        "<a href=\"https://colab.research.google.com/github/GraceW18/image-classification-model-CNN/blob/main/RandomizedSearchCV.ipynb\" target=\"_parent\"><img src=\"https://colab.research.google.com/assets/colab-badge.svg\" alt=\"Open In Colab\"/></a>"
      ]
    },
    {
      "cell_type": "code",
      "execution_count": null,
      "metadata": {
        "id": "4xotmH9lIXtC"
      },
      "outputs": [],
      "source": [
        "import pandas as pd\n",
        "import numpy as np\n",
        "from tensorflow.keras.models import Sequential\n",
        "from tensorflow.keras.layers import Conv2D, MaxPooling2D, Flatten, Dense, Dropout\n",
        "from tensorflow.keras.optimizers import Adam\n",
        "from scikeras.wrappers import KerasClassifier\n",
        "from sklearn.model_selection import GridSearchCV\n",
        "from sklearn.metrics import accuracy_score\n",
        "from sklearn.metrics import confusion_matrix\n",
        "\n",
        "# Load and preprocess data\n",
        "train_data = pd.read_csv('sign_mnist_13bal_train.csv')\n",
        "test_data = pd.read_csv('sign_mnist_13bal_test.csv')\n",
        "X_train = train_data.drop('class', axis=1).values / 255.0\n",
        "y_train = train_data['class'].values\n",
        "X_test = test_data.drop('class', axis=1).values / 255.0\n",
        "y_test = test_data['class'].values\n",
        "\n",
        "# Reshape as images for CNN input (28x28 grayscale)\n",
        "X_train = X_train.reshape(-1, 28, 28, 1)\n",
        "X_test = X_test.reshape(-1, 28, 28, 1)\n",
        "num_classes = len(np.unique(y_train))\n",
        "\n",
        "# Model building function\n",
        "def build_cnn(optimizer='adam', dropout_rate=0.5, filters=32, dense_units=128):\n",
        "    model = Sequential()\n",
        "    model.add(Conv2D(filters, (3, 3), activation='relu', input_shape=(28, 28, 1)))\n",
        "    model.add(MaxPooling2D((2, 2)))\n",
        "    model.add(Conv2D(2 * filters, (3, 3), activation='relu'))\n",
        "    model.add(MaxPooling2D((2, 2)))\n",
        "    model.add(Flatten())\n",
        "    model.add(Dense(dense_units, activation='relu'))\n",
        "    model.add(Dropout(dropout_rate))\n",
        "    model.add(Dense(num_classes, activation='softmax'))\n",
        "    model.compile(optimizer=optimizer, loss='sparse_categorical_crossentropy', metrics=['accuracy'])\n",
        "    return model\n",
        "\n",
        "# Wrap with scikeras's KerasClassifier\n",
        "clf = KerasClassifier (\n",
        "    model=build_cnn,\n",
        "    epochs=15,\n",
        "    batch_size=64,\n",
        "    verbose=0 # set to 1 for training progress\n",
        ")\n",
        "\n",
        "# Define search space\n",
        "param_dist = {\n",
        "    'optimizer': ['adam', 'rmsprop'],\n",
        "    'dropout_rate': [0.3, 0.5],\n",
        "    'filters': [32, 64],\n",
        "    'dense_units': [64, 128],\n",
        "    'epochs': [10, 15, 20],\n",
        "    'batch_size': [32, 64, 128]\n",
        "}\n",
        "\n",
        "# Set up and run RandomizedSearchCV\n",
        "random_search = RandomizedSearchCV (\n",
        "    estimator=clf,\n",
        "    param_distributions=param_dist,\n",
        "    n_iter=15, # Number of random combos to try\n",
        "    scoring='accuracy',\n",
        "    cv=3,\n",
        "    verbose=2,\n",
        "    random_state=42,\n",
        "    n_jobs=-1 # Set to -1 if using CPU server with enough RAM\n",
        ")\n",
        "random_search.fit(X_train, y_train)\n",
        "\n",
        "\n",
        "\n",
        "\n",
        "\n",
        "\n",
        "\n"
      ]
    }
  ]
}