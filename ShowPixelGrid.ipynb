{
  "nbformat": 4,
  "nbformat_minor": 0,
  "metadata": {
    "colab": {
      "provenance": [],
      "authorship_tag": "ABX9TyOjnRuOygFTlsh/XKZRPUnC",
      "include_colab_link": true
    },
    "kernelspec": {
      "name": "python3",
      "display_name": "Python 3"
    },
    "language_info": {
      "name": "python"
    }
  },
  "cells": [
    {
      "cell_type": "markdown",
      "metadata": {
        "id": "view-in-github",
        "colab_type": "text"
      },
      "source": [
        "<a href=\"https://colab.research.google.com/github/GraceW18/image-classification-model-CNN/blob/main/ShowPixelGrid.ipynb\" target=\"_parent\"><img src=\"https://colab.research.google.com/assets/colab-badge.svg\" alt=\"Open In Colab\"/></a>"
      ]
    },
    {
      "cell_type": "code",
      "execution_count": null,
      "metadata": {
        "id": "T13Do2cFAS02"
      },
      "outputs": [],
      "source": [
        "import pandas as pd\n",
        "import matplotlib.pyplot as plt\n",
        "import numpy as np\n",
        "plt.rcParams.update({'font.size': 8})\n",
        "# Load one row of data from the CSV file\n",
        "df = pd.read_csv('sign_mnist_13bal_train.csv')\n",
        "row = df.iloc[7]\n",
        "\n",
        "# Extract the image data (excluding the label)\n",
        "image_data = row[1:].values\n",
        "image_data = image_data.astype(np.uint8)  # Convert to unsigned integer for image display\n",
        "\n",
        "# Reshape the data into a 28x28 grid\n",
        "image_28x28 = image_data.reshape(28, 28)\n",
        "\n",
        "# Display the image with numerical values overlaid and row/column labels\n",
        "fig, ax = plt.subplots(figsize=(7, 7))\n",
        "cax = ax.matshow(image_28x28, cmap='gray')\n",
        "\n",
        "# Add color bar for reference\n",
        "plt.colorbar(cax)\n",
        "\n",
        "# Adding grid labels\n",
        "for (i, j), val in np.ndenumerate(image_28x28):\n",
        "    ax.text(j, i, val, ha='center', va='center', color='red', fontsize=5)\n",
        "\n",
        "# Label rows and columns\n",
        "ax.set_xticks(np.arange(0, 28, 1))\n",
        "ax.set_yticks(np.arange(0, 28, 1))\n",
        "ax.set_xticklabels(np.arange(1, 29, 1))\n",
        "ax.set_yticklabels(np.arange(1, 29, 1))\n",
        "\n",
        "plt.show()"
      ]
    }
  ]
}